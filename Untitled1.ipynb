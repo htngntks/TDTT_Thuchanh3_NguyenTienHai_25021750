{
  "nbformat": 4,
  "nbformat_minor": 0,
  "metadata": {
    "colab": {
      "provenance": [],
      "authorship_tag": "ABX9TyMgzYslGkEWmASaIW8J0RG7",
      "include_colab_link": true
    },
    "kernelspec": {
      "name": "python3",
      "display_name": "Python 3"
    },
    "language_info": {
      "name": "python"
    }
  },
  "cells": [
    {
      "cell_type": "markdown",
      "metadata": {
        "id": "view-in-github",
        "colab_type": "text"
      },
      "source": [
        "<a href=\"https://colab.research.google.com/github/htngntks/TDTT---TH---Nguyen-Tien-Hai---25021750/blob/main/Untitled1.ipynb\" target=\"_parent\"><img src=\"https://colab.research.google.com/assets/colab-badge.svg\" alt=\"Open In Colab\"/></a>"
      ]
    },
    {
      "cell_type": "code",
      "execution_count": 3,
      "metadata": {
        "colab": {
          "base_uri": "https://localhost:8080/"
        },
        "id": "dkiyvhLr08ot",
        "outputId": "36c734d9-c4c8-4af9-d26f-755c19eb844c"
      },
      "outputs": [
        {
          "output_type": "stream",
          "name": "stdout",
          "text": [
            "Nhap so nguyen n: 3534\n",
            "4353\n"
          ]
        }
      ],
      "source": [
        "# Viết một chương trình nhập vào một số nguyên n và in ra các chữ số đảo ngược nhau\n",
        "n = int(input(\"Nhap so nguyen n: \"))\n",
        "rev = 0\n",
        "while n > 0:\n",
        "  rev = rev * 10 + n % 10\n",
        "  n //= 10\n",
        "print(rev)"
      ]
    },
    {
      "cell_type": "code",
      "source": [
        "# Hoán đổi hai số không sd biến tạm thời\n",
        "a, b = map(int, input(\"Nhap hai so: \").split())\n",
        "a = a ^ b\n",
        "b = a ^ b\n",
        "a = a ^ b\n",
        "print(a, b)"
      ],
      "metadata": {
        "colab": {
          "base_uri": "https://localhost:8080/"
        },
        "collapsed": true,
        "id": "B-XuTnwe0-Y3",
        "outputId": "d8d84f85-78dd-42ab-b01a-dc7ad7529ba3"
      },
      "execution_count": 4,
      "outputs": [
        {
          "output_type": "stream",
          "name": "stdout",
          "text": [
            "Nhap hai so: 1 4\n",
            "4 1\n"
          ]
        }
      ]
    }
  ]
}