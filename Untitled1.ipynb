{
  "nbformat": 4,
  "nbformat_minor": 0,
  "metadata": {
    "colab": {
      "provenance": [],
      "authorship_tag": "ABX9TyOFzHGj4VwXQ79TOHBoVrBK",
      "include_colab_link": true
    },
    "kernelspec": {
      "name": "python3",
      "display_name": "Python 3"
    },
    "language_info": {
      "name": "python"
    }
  },
  "cells": [
    {
      "cell_type": "markdown",
      "metadata": {
        "id": "view-in-github",
        "colab_type": "text"
      },
      "source": [
        "<a href=\"https://colab.research.google.com/github/htngntks/TDTT_Thuchanh3_NguyenTienHai_25021750/blob/main/Untitled1.ipynb\" target=\"_parent\"><img src=\"https://colab.research.google.com/assets/colab-badge.svg\" alt=\"Open In Colab\"/></a>"
      ]
    },
    {
      "cell_type": "code",
      "execution_count": null,
      "metadata": {
        "id": "dkiyvhLr08ot",
        "collapsed": true
      },
      "outputs": [],
      "source": [
        "# Viết một chương trình nhập vào một số nguyên n và in ra các chữ số đảo ngược nhau\n",
        "n = int(input(\"Nhap so nguyen n: \"))\n",
        "rev = 0\n",
        "while n > 0:\n",
        "  rev = rev * 10 + n % 10\n",
        "  n //= 10\n",
        "print(rev)"
      ]
    },
    {
      "cell_type": "code",
      "source": [
        "# Hoán đổi hai số không sd biến tạm thời\n",
        "a, b = map(int, input(\"Nhap hai so: \").split())\n",
        "a = a ^ b\n",
        "b = a ^ b\n",
        "a = a ^ b\n",
        "print(a, b)"
      ],
      "metadata": {
        "collapsed": true,
        "id": "B-XuTnwe0-Y3"
      },
      "execution_count": null,
      "outputs": []
    },
    {
      "cell_type": "code",
      "source": [],
      "metadata": {
        "id": "bwl1uWUE96YP"
      },
      "execution_count": null,
      "outputs": []
    }
  ]
}