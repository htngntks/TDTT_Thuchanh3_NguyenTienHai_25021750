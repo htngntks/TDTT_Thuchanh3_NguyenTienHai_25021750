{
  "nbformat": 4,
  "nbformat_minor": 0,
  "metadata": {
    "colab": {
      "provenance": [],
      "authorship_tag": "ABX9TyNLS7lzcxVuUnWjryDjDMIb",
      "include_colab_link": true
    },
    "kernelspec": {
      "name": "python3",
      "display_name": "Python 3"
    },
    "language_info": {
      "name": "python"
    }
  },
  "cells": [
    {
      "cell_type": "markdown",
      "metadata": {
        "id": "view-in-github",
        "colab_type": "text"
      },
      "source": [
        "<a href=\"https://colab.research.google.com/github/htngntks/TDTT_Thuchanh3_NguyenTienHai_25021750/blob/main/thuchanh.ipynb\" target=\"_parent\"><img src=\"https://colab.research.google.com/assets/colab-badge.svg\" alt=\"Open In Colab\"/></a>"
      ]
    },
    {
      "cell_type": "code",
      "execution_count": null,
      "metadata": {
        "id": "dkiyvhLr08ot"
      },
      "outputs": [],
      "source": [
        "# Viết một chương trình nhập vào một số nguyên n và in ra các chữ số đảo ngược nhau\n",
        "n = int(input(\"Nhap so nguyen n: \"))\n",
        "rev = 0\n",
        "while n > 0:\n",
        "  rev = rev * 10 + n % 10\n",
        "  n //= 10\n",
        "print(rev)"
      ]
    },
    {
      "cell_type": "code",
      "source": [
        "# Hoán đổi hai số không sd biến tạm thời\n",
        "a, b = map(int, input(\"Nhap hai so: \").split())\n",
        "a = a ^ b\n",
        "b = a ^ b\n",
        "a = a ^ b\n",
        "print(a, b)"
      ],
      "metadata": {
        "id": "B-XuTnwe0-Y3"
      },
      "execution_count": null,
      "outputs": []
    },
    {
      "cell_type": "code",
      "source": [
        "#Sử dụng các toán tử bitwise để xác định xem một số có phải là lũy thừa của 2 hay không.\n",
        "n = int(input(\"Nhap n: \"))\n",
        "\n",
        "print(n >0 and (n & (n - 1) == 0))"
      ],
      "metadata": {
        "id": "91N_dIs0n3Rx"
      },
      "execution_count": null,
      "outputs": []
    },
    {
      "cell_type": "code",
      "source": [
        "# viêt chương trình chia một số m cho n, kết quả thu được làm tròn xuống\n",
        "m, n = map(int, input(\"Nhap hai so: \").split())\n",
        "\n",
        "print(m // n)"
      ],
      "metadata": {
        "id": "YLttXreoxMo_"
      },
      "execution_count": null,
      "outputs": []
    },
    {
      "cell_type": "code",
      "source": [
        "# viêt chương trình chia một số m cho n, kết quả thu được làm tròn lên\n",
        "m, n = map(int, input(\"Nhap hai so: \").split())\n",
        "\n",
        "print((m + n - 1) // n)"
      ],
      "metadata": {
        "collapsed": true,
        "id": "1LkMrxg_yFgr"
      },
      "execution_count": null,
      "outputs": []
    },
    {
      "cell_type": "code",
      "source": [
        "# Nhập vào một số nguyên dương x, bạn hãy kiểm tra xem x là số chẵn hay lẻ\n",
        "x = int(input(\"Nhap x: \"))\n",
        "\n",
        "if x % 2 == 0:\n",
        "  print(\"Even\")\n",
        "else:\n",
        "  print(\"Odd\")"
      ],
      "metadata": {
        "id": "9Fn0Uy14y6bg"
      },
      "execution_count": null,
      "outputs": []
    },
    {
      "cell_type": "code",
      "source": [
        "# Nhập vào hai số nguyên a, b. Nếu cả hai số a, b đều âm thì in ra \"Yes\", ngược lại in ra \"No\".\n",
        "a = int(input(\"Nhap a: \"))\n",
        "b = int(input(\"Nhap b: \"))\n",
        "\n",
        "if a < 0 and b < 0:\n",
        "  print(\"Yes\")\n",
        "else:\n",
        "  print(\"No\")"
      ],
      "metadata": {
        "id": "6o_5yTmOzRPO"
      },
      "execution_count": null,
      "outputs": []
    },
    {
      "cell_type": "code",
      "source": [
        "# Nhập vào hai chuỗi a, b gồm các chữ cái thường. In ra \"True\" nếu chuỗi a dài hơn chuỗi b. Ngược lại in ra \"False\"\n",
        "a = input(\"Nhap a: \")\n",
        "b = input(\"Nhap b: \")\n",
        "\n",
        "print(len(a) > len(b))"
      ],
      "metadata": {
        "id": "SrHuonP9zjS5"
      },
      "execution_count": null,
      "outputs": []
    },
    {
      "cell_type": "code",
      "source": [
        "# Nhập vào 3 số nguyên dương a, b, c. Kiểm tra xem a, b, c có cấu thành độ dài cạnh của 1 tam giác được không.\n",
        "a = int(input(\"Nhap a: \"))\n",
        "b = int(input(\"Nhap b: \"))\n",
        "c = int(input(\"Nhap c: \"))\n",
        "if a <= 0 or b <= 0 or c <= 0:\n",
        "  print(\"No\")\n",
        "else:\n",
        "  if a + b > c and b + c > a and c + a > b:\n",
        "    print(\"Yes\")\n",
        "  else:\n",
        "    print(\"No\")"
      ],
      "metadata": {
        "id": "CtmS8cfEzkla"
      },
      "execution_count": null,
      "outputs": []
    },
    {
      "cell_type": "code",
      "source": [
        "# Nhập vào 4 số nguyên. In ra màn hình số nguyên lớn nhất trong 4 số.\n",
        "a = int(input(\"Nhap a: \"))\n",
        "b = int(input(\"Nhap b: \"))\n",
        "c = int(input(\"Nhap c: \"))\n",
        "d = int(input(\"Nhap d: \"))\n",
        "\n",
        "print(max(a, b, c, d))"
      ],
      "metadata": {
        "id": "xl-GCbmn1MMd"
      },
      "execution_count": null,
      "outputs": []
    },
    {
      "cell_type": "code",
      "source": [
        "#  Nhập vào 3 số nguyên dương a,b,c là độ dài 3 cạnh của một tam giác. Kiểm tra 3 số đã nhập có tạo thành\n",
        "#  một tam giác hợp lệ hay không. Nếu không in ra \"Không phải tam giác\". Nếu có, phân loại tam giác đó là\n",
        "#  \"Tam giác đều\", \"Tam giác cân\", hay \"Tam giác thường\".\n",
        "a, b, c = map(int, input(\"Nhap do dai ba canh: \").split())\n",
        "\n",
        "if a <= 0 or b <= 0 or c <= 0:\n",
        "  print(\"Khong phai tam giac\")\n",
        "elif a + b > c and b + c > a and c + a > b:\n",
        "  if a == b == c:\n",
        "    print(\"Tam giac deu\")\n",
        "  elif a == b or b == c or c == a:\n",
        "    print(\"Tam giac can\")\n",
        "  else:\n",
        "    print(\"Tam giac thuong\")\n",
        "else:\n",
        "  print(\"Khong phai tam giac\")"
      ],
      "metadata": {
        "id": "6VhW95MI10q3"
      },
      "execution_count": null,
      "outputs": []
    },
    {
      "cell_type": "code",
      "source": [
        "# Nhập vào một số nguyên dương n là số năm, kiểm tra xem năm đó có phải là năm nhuận hay không.\n",
        "n = int(input(\"Nhap nam(so nguyen duong): \"))\n",
        "if (n % 4 == 0 and n % 100 != 0) or n % 400 == 0:\n",
        "  print(\"Yes\")\n",
        "else:\n",
        "  print(\"No\")"
      ],
      "metadata": {
        "id": "SV39Psnm3a5g"
      },
      "execution_count": null,
      "outputs": []
    },
    {
      "cell_type": "code",
      "source": [],
      "metadata": {
        "id": "x8tq3VZD4vYJ"
      },
      "execution_count": null,
      "outputs": []
    }
  ]
}